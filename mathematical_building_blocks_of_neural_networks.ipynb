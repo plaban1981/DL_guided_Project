{
  "nbformat": 4,
  "nbformat_minor": 0,
  "metadata": {
    "colab": {
      "name": "mathematical building blocks of neural networks.ipynb",
      "provenance": [],
      "machine_shape": "hm",
      "authorship_tag": "ABX9TyMy4lzcLVgaI+WWFzxUS8xx",
      "include_colab_link": true
    },
    "kernelspec": {
      "name": "python3",
      "display_name": "Python 3"
    },
    "language_info": {
      "name": "python"
    },
    "accelerator": "GPU"
  },
  "cells": [
    {
      "cell_type": "markdown",
      "metadata": {
        "id": "view-in-github",
        "colab_type": "text"
      },
      "source": [
        "<a href=\"https://colab.research.google.com/github/plaban1981/DL_guided_Project/blob/main/mathematical_building_blocks_of_neural_networks.ipynb\" target=\"_parent\"><img src=\"https://colab.research.google.com/assets/colab-badge.svg\" alt=\"Open In Colab\"/></a>"
      ]
    },
    {
      "cell_type": "markdown",
      "metadata": {
        "id": "O7MA3G27jeO7"
      },
      "source": [
        "## import tensorflow"
      ]
    },
    {
      "cell_type": "code",
      "metadata": {
        "colab": {
          "base_uri": "https://localhost:8080/",
          "height": 35
        },
        "id": "moGaKFVfiePC",
        "outputId": "124141a3-32a6-41ec-8956-0700468a76ce"
      },
      "source": [
        "import tensorflow as tf\n",
        "tf.__version__"
      ],
      "execution_count": 1,
      "outputs": [
        {
          "output_type": "execute_result",
          "data": {
            "application/vnd.google.colaboratory.intrinsic+json": {
              "type": "string"
            },
            "text/plain": [
              "'2.6.0'"
            ]
          },
          "metadata": {},
          "execution_count": 1
        }
      ]
    },
    {
      "cell_type": "markdown",
      "metadata": {
        "id": "vNlaSQHnjkVr"
      },
      "source": [
        "## Load MNIST dataset"
      ]
    },
    {
      "cell_type": "code",
      "metadata": {
        "colab": {
          "base_uri": "https://localhost:8080/"
        },
        "id": "Vdx4LHeGjUmh",
        "outputId": "a5987191-e48e-4b48-a4b2-1c1b287d355f"
      },
      "source": [
        "from tensorflow.keras.datasets import mnist\n",
        "(train_images, train_labels), (test_images, test_labels) = mnist.load_data()"
      ],
      "execution_count": 2,
      "outputs": [
        {
          "output_type": "stream",
          "name": "stdout",
          "text": [
            "Downloading data from https://storage.googleapis.com/tensorflow/tf-keras-datasets/mnist.npz\n",
            "11493376/11490434 [==============================] - 0s 0us/step\n",
            "11501568/11490434 [==============================] - 0s 0us/step\n"
          ]
        }
      ]
    },
    {
      "cell_type": "code",
      "metadata": {
        "colab": {
          "base_uri": "https://localhost:8080/"
        },
        "id": "E3st9ka9luA5",
        "outputId": "0479bab0-3c87-48e0-c747-803721c7b842"
      },
      "source": [
        "train_images.shape,test_images.shape"
      ],
      "execution_count": 3,
      "outputs": [
        {
          "output_type": "execute_result",
          "data": {
            "text/plain": [
              "((60000, 28, 28), (10000, 28, 28))"
            ]
          },
          "metadata": {},
          "execution_count": 3
        }
      ]
    },
    {
      "cell_type": "markdown",
      "metadata": {
        "id": "EBtVVhHcmFsI"
      },
      "source": [
        "## Build a Neural Network"
      ]
    },
    {
      "cell_type": "code",
      "metadata": {
        "id": "c7BwFdcIlyUh"
      },
      "source": [
        "model = tf.keras.Sequential(\n",
        "    [tf.keras.layers.Dense(512,activation='relu'),\n",
        "     tf.keras.layers.Dense(10,activation='softmax')]\n",
        ")"
      ],
      "execution_count": 4,
      "outputs": []
    },
    {
      "cell_type": "markdown",
      "metadata": {
        "id": "0W7bTwwgndLq"
      },
      "source": [
        "## Compile the model"
      ]
    },
    {
      "cell_type": "code",
      "metadata": {
        "id": "bAC12VrSnZQY"
      },
      "source": [
        "model.compile(optimizer='rmsprop',loss='sparse_categorical_crossentropy',metrics=['accuracy'])"
      ],
      "execution_count": 5,
      "outputs": []
    },
    {
      "cell_type": "markdown",
      "metadata": {
        "id": "ndsJ46wCpi3P"
      },
      "source": [
        "## Prepare the images"
      ]
    },
    {
      "cell_type": "code",
      "metadata": {
        "id": "qJKnXhAnplGF"
      },
      "source": [
        "train_images = train_images.reshape((60000, 28 * 28))\n",
        "train_images = train_images.astype(\"float32\") / 255\n",
        "test_images = test_images.reshape((10000, 28 * 28))\n",
        "test_images = test_images.astype(\"float32\") / 255"
      ],
      "execution_count": 6,
      "outputs": []
    },
    {
      "cell_type": "markdown",
      "metadata": {
        "id": "tSpatPEMpsJl"
      },
      "source": [
        "## Fit the trained model"
      ]
    },
    {
      "cell_type": "code",
      "metadata": {
        "colab": {
          "base_uri": "https://localhost:8080/"
        },
        "id": "jsPqk9cKpu_u",
        "outputId": "f3094a1b-4ff6-4f48-b4f9-a67ff240bdba"
      },
      "source": [
        "history = model.fit(train_images,train_labels,epochs=5,batch_size=32)"
      ],
      "execution_count": 8,
      "outputs": [
        {
          "output_type": "stream",
          "name": "stdout",
          "text": [
            "Epoch 1/5\n",
            "1875/1875 [==============================] - 4s 2ms/step - loss: 0.0346 - accuracy: 0.9907\n",
            "Epoch 2/5\n",
            "1875/1875 [==============================] - 4s 2ms/step - loss: 0.0277 - accuracy: 0.9925\n",
            "Epoch 3/5\n",
            "1875/1875 [==============================] - 4s 2ms/step - loss: 0.0236 - accuracy: 0.9934\n",
            "Epoch 4/5\n",
            "1875/1875 [==============================] - 4s 2ms/step - loss: 0.0193 - accuracy: 0.9950\n",
            "Epoch 5/5\n",
            "1875/1875 [==============================] - 4s 2ms/step - loss: 0.0160 - accuracy: 0.9956\n"
          ]
        }
      ]
    },
    {
      "cell_type": "markdown",
      "metadata": {
        "id": "N6oxwHAptKvE"
      },
      "source": [
        "## Train the model and Evaluate on test data"
      ]
    },
    {
      "cell_type": "code",
      "metadata": {
        "colab": {
          "base_uri": "https://localhost:8080/"
        },
        "id": "pYbXtmPTtQLg",
        "outputId": "22263b85-fd17-43c4-b65a-e4e2095a46cd"
      },
      "source": [
        "history = model.fit(train_images,\n",
        "                    train_labels,\n",
        "                    validation_data=(test_images,test_labels),\n",
        "                    epochs=25,validation_batch_size=16,\n",
        "                    batch_size=32)"
      ],
      "execution_count": 33,
      "outputs": [
        {
          "output_type": "stream",
          "name": "stdout",
          "text": [
            "Epoch 1/25\n",
            "1875/1875 [==============================] - 5s 3ms/step - loss: 8.9539e-04 - accuracy: 0.9997 - val_loss: 0.1550 - val_accuracy: 0.9836\n",
            "Epoch 2/25\n",
            "1875/1875 [==============================] - 5s 3ms/step - loss: 7.7054e-04 - accuracy: 0.9998 - val_loss: 0.1630 - val_accuracy: 0.9828\n",
            "Epoch 3/25\n",
            "1875/1875 [==============================] - 5s 3ms/step - loss: 9.7695e-04 - accuracy: 0.9997 - val_loss: 0.1874 - val_accuracy: 0.9801\n",
            "Epoch 4/25\n",
            "1875/1875 [==============================] - 5s 3ms/step - loss: 7.7235e-04 - accuracy: 0.9997 - val_loss: 0.1636 - val_accuracy: 0.9820\n",
            "Epoch 5/25\n",
            "1875/1875 [==============================] - 5s 3ms/step - loss: 5.9881e-04 - accuracy: 0.9998 - val_loss: 0.1781 - val_accuracy: 0.9821\n",
            "Epoch 6/25\n",
            "1875/1875 [==============================] - 5s 3ms/step - loss: 5.3807e-04 - accuracy: 0.9998 - val_loss: 0.1658 - val_accuracy: 0.9835\n",
            "Epoch 7/25\n",
            "1875/1875 [==============================] - 5s 3ms/step - loss: 3.7595e-04 - accuracy: 0.9999 - val_loss: 0.1739 - val_accuracy: 0.9828\n",
            "Epoch 8/25\n",
            "1875/1875 [==============================] - 5s 3ms/step - loss: 2.1260e-04 - accuracy: 0.9999 - val_loss: 0.1825 - val_accuracy: 0.9812\n",
            "Epoch 9/25\n",
            "1875/1875 [==============================] - 5s 3ms/step - loss: 2.4424e-04 - accuracy: 0.9999 - val_loss: 0.1889 - val_accuracy: 0.9815\n",
            "Epoch 10/25\n",
            "1875/1875 [==============================] - 5s 3ms/step - loss: 1.7663e-04 - accuracy: 0.9999 - val_loss: 0.1836 - val_accuracy: 0.9833\n",
            "Epoch 11/25\n",
            "1875/1875 [==============================] - 5s 3ms/step - loss: 1.8182e-04 - accuracy: 0.9999 - val_loss: 0.1689 - val_accuracy: 0.9834\n",
            "Epoch 12/25\n",
            "1875/1875 [==============================] - 5s 3ms/step - loss: 6.9292e-05 - accuracy: 1.0000 - val_loss: 0.1848 - val_accuracy: 0.9830\n",
            "Epoch 13/25\n",
            "1875/1875 [==============================] - 5s 3ms/step - loss: 7.1476e-05 - accuracy: 1.0000 - val_loss: 0.1816 - val_accuracy: 0.9834\n",
            "Epoch 14/25\n",
            "1875/1875 [==============================] - 5s 3ms/step - loss: 7.8144e-06 - accuracy: 1.0000 - val_loss: 0.2094 - val_accuracy: 0.9820\n",
            "Epoch 15/25\n",
            "1875/1875 [==============================] - 5s 3ms/step - loss: 2.8774e-06 - accuracy: 1.0000 - val_loss: 0.1874 - val_accuracy: 0.9836\n",
            "Epoch 16/25\n",
            "1875/1875 [==============================] - 5s 3ms/step - loss: 1.8994e-06 - accuracy: 1.0000 - val_loss: 0.1836 - val_accuracy: 0.9831\n",
            "Epoch 17/25\n",
            "1875/1875 [==============================] - 5s 3ms/step - loss: 1.9154e-08 - accuracy: 1.0000 - val_loss: 0.1821 - val_accuracy: 0.9831\n",
            "Epoch 18/25\n",
            "1875/1875 [==============================] - 5s 3ms/step - loss: 1.7372e-08 - accuracy: 1.0000 - val_loss: 0.1856 - val_accuracy: 0.9830\n",
            "Epoch 19/25\n",
            "1875/1875 [==============================] - 5s 3ms/step - loss: 2.8710e-09 - accuracy: 1.0000 - val_loss: 0.1853 - val_accuracy: 0.9832\n",
            "Epoch 20/25\n",
            "1875/1875 [==============================] - 5s 3ms/step - loss: 2.1319e-09 - accuracy: 1.0000 - val_loss: 0.1854 - val_accuracy: 0.9827\n",
            "Epoch 21/25\n",
            "1875/1875 [==============================] - 5s 3ms/step - loss: 1.9570e-09 - accuracy: 1.0000 - val_loss: 0.1871 - val_accuracy: 0.9830\n",
            "Epoch 22/25\n",
            "1875/1875 [==============================] - 5s 3ms/step - loss: 1.9113e-09 - accuracy: 1.0000 - val_loss: 0.1877 - val_accuracy: 0.9832\n",
            "Epoch 23/25\n",
            "1875/1875 [==============================] - 5s 3ms/step - loss: 2.0583e-09 - accuracy: 1.0000 - val_loss: 0.1898 - val_accuracy: 0.9834\n",
            "Epoch 24/25\n",
            "1875/1875 [==============================] - 5s 3ms/step - loss: 2.4199e-09 - accuracy: 1.0000 - val_loss: 0.1889 - val_accuracy: 0.9833\n",
            "Epoch 25/25\n",
            "1875/1875 [==============================] - 5s 3ms/step - loss: 2.3007e-09 - accuracy: 1.0000 - val_loss: 0.1891 - val_accuracy: 0.9831\n"
          ]
        }
      ]
    },
    {
      "cell_type": "code",
      "metadata": {
        "colab": {
          "base_uri": "https://localhost:8080/"
        },
        "id": "wO_SnTtJp-ON",
        "outputId": "15f01091-8ee9-42cf-8cd4-bb99cfaf14a7"
      },
      "source": [
        "history.history.keys()"
      ],
      "execution_count": 21,
      "outputs": [
        {
          "output_type": "execute_result",
          "data": {
            "text/plain": [
              "dict_keys(['loss', 'accuracy', 'val_loss', 'val_accuracy'])"
            ]
          },
          "metadata": {},
          "execution_count": 21
        }
      ]
    },
    {
      "cell_type": "markdown",
      "metadata": {
        "id": "ywGIn65crMO2"
      },
      "source": [
        "## Visualize Accuracy and Loss"
      ]
    },
    {
      "cell_type": "code",
      "metadata": {
        "colab": {
          "base_uri": "https://localhost:8080/",
          "height": 295
        },
        "id": "pPuXs8c4qYfl",
        "outputId": "33949ae4-9c78-4dd6-df51-095e987fcb7c"
      },
      "source": [
        "import matplotlib.pyplot as plt\n",
        "plt.plot(history.history['accuracy'],label='Training Accuracy')\n",
        "plt.plot(history.history['val_accuracy'],label='Validation Accuracy')\n",
        "plt.title('Training Accuracy vs Validation Accuracy')\n",
        "plt.legend()\n",
        "plt.xlabel('Epochs')\n",
        "plt.ylabel('Accuracy')\n",
        "plt.show()"
      ],
      "execution_count": 34,
      "outputs": [
        {
          "output_type": "display_data",
          "data": {
            "image/png": "[encoded data removed]",
            "text/plain": [
              "<Figure size 432x288 with 1 Axes>"
            ]
          },
          "metadata": {
            "needs_background": "light"
          }
        }
      ]
    },
    {
      "cell_type": "code",
      "metadata": {
        "colab": {
          "base_uri": "https://localhost:8080/",
          "height": 295
        },
        "id": "Iru1U3kBqtXi",
        "outputId": "671f8053-6453-435c-a52d-abf35bf63470"
      },
      "source": [
        "plt.plot(history.history['loss'],label='Training Accuracy')\n",
        "plt.plot(history.history['val_loss'],label='Validation Accuracy')\n",
        "plt.title('Training Loss vs Validation Loss')\n",
        "plt.legend()\n",
        "plt.xlabel('Epochs')\n",
        "plt.ylabel('Loss')\n",
        "plt.show()"
      ],
      "execution_count": 35,
      "outputs": [
        {
          "output_type": "display_data",
          "data": {
            "image/png": "[encoded data removed]",
            "text/plain": [
              "<Figure size 432x288 with 1 Axes>"
            ]
          },
          "metadata": {
            "needs_background": "light"
          }
        }
      ]
    },
    {
      "cell_type": "markdown",
      "metadata": {
        "id": "FIy7KrWGrWTl"
      },
      "source": [
        "## Using the model to make predictions"
      ]
    },
    {
      "cell_type": "code",
      "metadata": {
        "colab": {
          "base_uri": "https://localhost:8080/"
        },
        "id": "adMpPvf0rZcC",
        "outputId": "7ae3dc40-555c-463a-8dfd-9dd9d5ea20cf"
      },
      "source": [
        "test_digits = test_images[0:10]\n",
        "predictions = model.predict(test_digits)\n",
        "predictions[0]"
      ],
      "execution_count": 14,
      "outputs": [
        {
          "output_type": "execute_result",
          "data": {
            "text/plain": [
              "array([4.7264680e-20, 9.9012914e-27, 1.7558967e-17, 9.3142907e-12,\n",
              "       6.1824490e-26, 8.4552773e-18, 1.3091780e-34, 1.0000000e+00,\n",
              "       2.7882943e-20, 3.5884832e-14], dtype=float32)"
            ]
          },
          "metadata": {},
          "execution_count": 14
        }
      ]
    },
    {
      "cell_type": "markdown",
      "metadata": {
        "id": "9oue5vQgsgRV"
      },
      "source": [
        "## Predictions made by model on 1st test data"
      ]
    },
    {
      "cell_type": "code",
      "metadata": {
        "colab": {
          "base_uri": "https://localhost:8080/"
        },
        "id": "RocsF4npsW4r",
        "outputId": "dbc947b0-ca77-496b-a2ad-99a00b478a07"
      },
      "source": [
        "predictions[0].argmax()"
      ],
      "execution_count": 15,
      "outputs": [
        {
          "output_type": "execute_result",
          "data": {
            "text/plain": [
              "7"
            ]
          },
          "metadata": {},
          "execution_count": 15
        }
      ]
    },
    {
      "cell_type": "markdown",
      "metadata": {
        "id": "4eebARfAs6hz"
      },
      "source": [
        "## Actual Label"
      ]
    },
    {
      "cell_type": "code",
      "metadata": {
        "colab": {
          "base_uri": "https://localhost:8080/"
        },
        "id": "D7nKHWl3sdLt",
        "outputId": "b5029e04-dbb8-4241-9dd6-044f08882bfc"
      },
      "source": [
        "test_labels[0]"
      ],
      "execution_count": 16,
      "outputs": [
        {
          "output_type": "execute_result",
          "data": {
            "text/plain": [
              "7"
            ]
          },
          "metadata": {},
          "execution_count": 16
        }
      ]
    },
    {
      "cell_type": "markdown",
      "metadata": {
        "id": "ISK1RHoFtFO5"
      },
      "source": [
        "## Evaluating the model on new data"
      ]
    },
    {
      "cell_type": "code",
      "metadata": {
        "colab": {
          "base_uri": "https://localhost:8080/"
        },
        "id": "OkNHJnWutIFw",
        "outputId": "66bd79c1-035c-4b83-adc2-61a41109c8fa"
      },
      "source": [
        "test_loss, test_acc = model.evaluate(test_images, test_labels)\n",
        "print(f\"test_acc: {test_acc}\")"
      ],
      "execution_count": 36,
      "outputs": [
        {
          "output_type": "stream",
          "name": "stdout",
          "text": [
            "313/313 [==============================] - 1s 2ms/step - loss: 0.1891 - accuracy: 0.9831\n",
            "test_acc: 0.9830999970436096\n"
          ]
        }
      ]
    },
    {
      "cell_type": "markdown",
      "metadata": {
        "id": "dosQS-0evzFQ"
      },
      "source": [
        "## Data representations for neural networks"
      ]
    },
    {
      "cell_type": "code",
      "metadata": {
        "id": "D29tg7i5v0O5"
      },
      "source": [
        ""
      ],
      "execution_count": null,
      "outputs": []
    }
  ]
}