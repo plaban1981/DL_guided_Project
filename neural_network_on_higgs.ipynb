{
  "nbformat": 4,
  "nbformat_minor": 5,
  "metadata": {
    "colab": {
      "name": "neural-network-on-higgs.ipynb",
      "provenance": [],
      "include_colab_link": true
    },
    "interpreter": {
      "hash": "868aec3ea0ba2db1024fbea0303ea7cb7fc059fc2299c3788632d164eb4822f6"
    },
    "kernelspec": {
      "display_name": "Python 3.9.6 64-bit",
      "name": "python3"
    },
    "language_info": {
      "codemirror_mode": {
        "name": "ipython",
        "version": 3
      },
      "file_extension": ".py",
      "mimetype": "text/x-python",
      "name": "python",
      "nbconvert_exporter": "python",
      "pygments_lexer": "ipython3",
      "version": "3.9.6"
    },
    "papermill": {
      "default_parameters": {},
      "duration": 1007.870617,
      "end_time": "2021-08-28T06:47:32.819216",
      "environment_variables": {},
      "exception": null,
      "input_path": "__notebook__.ipynb",
      "output_path": "__notebook__.ipynb",
      "parameters": {},
      "start_time": "2021-08-28T06:30:44.948599",
      "version": "2.3.3"
    }
  },
  "cells": [
    {
      "cell_type": "markdown",
      "metadata": {
        "id": "view-in-github",
        "colab_type": "text"
      },
      "source": [
        "<a href=\"https://colab.research.google.com/github/plaban1981/DL_guided_Project/blob/main/neural_network_on_higgs.ipynb\" target=\"_parent\"><img src=\"https://colab.research.google.com/assets/colab-badge.svg\" alt=\"Open In Colab\"/></a>"
      ]
    },
    {
      "cell_type": "markdown",
      "metadata": {
        "id": "hJk74PrOcC9R"
      },
      "source": [
        "## Upload Data"
      ],
      "id": "hJk74PrOcC9R"
    },
    {
      "cell_type": "code",
      "metadata": {
        "colab": {
          "resources": {
            "http://localhost:8080/nbextensions/google.colab/files.js": {
              "data": "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",
              "ok": true,
              "headers": [
                [
                  "content-type",
                  "application/javascript"
                ]
              ],
              "status": 200,
              "status_text": "OK"
            }
          },
          "base_uri": "https://localhost:8080/",
          "height": 73
        },
        "id": "A9j7i6UCcvDB",
        "outputId": "0d21094e-b2f4-4384-b2a4-ef8173b36a55"
      },
      "source": [
        "from google.colab import files\n",
        "files.upload()"
      ],
      "id": "A9j7i6UCcvDB",
      "execution_count": 1,
      "outputs": [
        {
          "output_type": "display_data",
          "data": {
            "text/html": [
              "\n",
              "     <input type=\"file\" id=\"files-45fbe535-b36c-4bbb-a375-b61fef02e6c6\" name=\"files[]\" multiple disabled\n",
              "        style=\"border:none\" />\n",
              "     <output id=\"result-45fbe535-b36c-4bbb-a375-b61fef02e6c6\">\n",
              "      Upload widget is only available when the cell has been executed in the\n",
              "      current browser session. Please rerun this cell to enable.\n",
              "      </output>\n",
              "      <script src=\"/nbextensions/google.colab/files.js\"></script> "
            ],
            "text/plain": [
              "<IPython.core.display.HTML object>"
            ]
          },
          "metadata": {}
        },
        {
          "output_type": "stream",
          "name": "stdout",
          "text": [
            "Saving Higgs Boson.zip to Higgs Boson.zip\n"
          ]
        }
      ]
    },
    {
      "cell_type": "code",
      "metadata": {
        "colab": {
          "base_uri": "https://localhost:8080/"
        },
        "id": "aAJueeiQsJvm",
        "outputId": "98627f8e-2f6b-4b7e-d5c1-0cd178c0c308"
      },
      "source": [
        "from google.colab import drive\n",
        "drive.mount(\"/content/drive\")"
      ],
      "id": "aAJueeiQsJvm",
      "execution_count": 4,
      "outputs": [
        {
          "output_type": "stream",
          "name": "stdout",
          "text": [
            "Mounted at /content/drive\n"
          ]
        }
      ]
    },
    {
      "cell_type": "code",
      "metadata": {
        "colab": {
          "base_uri": "https://localhost:8080/"
        },
        "id": "KKlxtLuttNRq",
        "outputId": "35d6f40b-1f68-490c-8ab9-9715ff0ce783"
      },
      "source": [
        "!unzip \"/content/Higgs Boson.zip\" -d \"/content/drive/MyDrive/DL_guided\""
      ],
      "id": "KKlxtLuttNRq",
      "execution_count": 6,
      "outputs": [
        {
          "output_type": "stream",
          "name": "stdout",
          "text": [
            "Archive:  /content/Higgs Boson.zip\n",
            "   creating: /content/drive/MyDrive/DL_guided/Higgs Boson/\n",
            "  inflating: /content/drive/MyDrive/DL_guided/Higgs Boson/Dataset Details.docx  \n",
            "  inflating: /content/drive/MyDrive/DL_guided/Higgs Boson/Dataset Details.pdf  \n",
            "   creating: /content/drive/MyDrive/DL_guided/Higgs Boson/Higgs Boson/\n",
            "   creating: /content/drive/MyDrive/DL_guided/Higgs Boson/Higgs Boson/.git/\n",
            "  inflating: /content/drive/MyDrive/DL_guided/Higgs Boson/Higgs Boson/.git/COMMIT_EDITMSG  \n",
            "  inflating: /content/drive/MyDrive/DL_guided/Higgs Boson/Higgs Boson/.git/config  \n",
            "  inflating: /content/drive/MyDrive/DL_guided/Higgs Boson/Higgs Boson/.git/description  \n",
            "  inflating: /content/drive/MyDrive/DL_guided/Higgs Boson/Higgs Boson/.git/HEAD  \n",
            "   creating: /content/drive/MyDrive/DL_guided/Higgs Boson/Higgs Boson/.git/hooks/\n",
            "  inflating: /content/drive/MyDrive/DL_guided/Higgs Boson/Higgs Boson/.git/hooks/applypatch-msg.sample  \n",
            "  inflating: /content/drive/MyDrive/DL_guided/Higgs Boson/Higgs Boson/.git/hooks/commit-msg.sample  \n",
            "  inflating: /content/drive/MyDrive/DL_guided/Higgs Boson/Higgs Boson/.git/hooks/fsmonitor-watchman.sample  \n",
            "  inflating: /content/drive/MyDrive/DL_guided/Higgs Boson/Higgs Boson/.git/hooks/post-update.sample  \n",
            "  inflating: /content/drive/MyDrive/DL_guided/Higgs Boson/Higgs Boson/.git/hooks/pre-applypatch.sample  \n",
            "  inflating: /content/drive/MyDrive/DL_guided/Higgs Boson/Higgs Boson/.git/hooks/pre-commit.sample  \n",
            "  inflating: /content/drive/MyDrive/DL_guided/Higgs Boson/Higgs Boson/.git/hooks/pre-merge-commit.sample  \n",
            "  inflating: /content/drive/MyDrive/DL_guided/Higgs Boson/Higgs Boson/.git/hooks/pre-push.sample  \n",
            "  inflating: /content/drive/MyDrive/DL_guided/Higgs Boson/Higgs Boson/.git/hooks/pre-rebase.sample  \n",
            "  inflating: /content/drive/MyDrive/DL_guided/Higgs Boson/Higgs Boson/.git/hooks/pre-receive.sample  \n",
            "  inflating: /content/drive/MyDrive/DL_guided/Higgs Boson/Higgs Boson/.git/hooks/prepare-commit-msg.sample  \n",
            "  inflating: /content/drive/MyDrive/DL_guided/Higgs Boson/Higgs Boson/.git/hooks/push-to-checkout.sample  \n",
            "  inflating: /content/drive/MyDrive/DL_guided/Higgs Boson/Higgs Boson/.git/hooks/update.sample  \n",
            "  inflating: /content/drive/MyDrive/DL_guided/Higgs Boson/Higgs Boson/.git/index  \n",
            "   creating: /content/drive/MyDrive/DL_guided/Higgs Boson/Higgs Boson/.git/info/\n",
            "  inflating: /content/drive/MyDrive/DL_guided/Higgs Boson/Higgs Boson/.git/info/exclude  \n",
            "   creating: /content/drive/MyDrive/DL_guided/Higgs Boson/Higgs Boson/.git/logs/\n",
            "  inflating: /content/drive/MyDrive/DL_guided/Higgs Boson/Higgs Boson/.git/logs/HEAD  \n",
            "   creating: /content/drive/MyDrive/DL_guided/Higgs Boson/Higgs Boson/.git/logs/refs/\n",
            "   creating: /content/drive/MyDrive/DL_guided/Higgs Boson/Higgs Boson/.git/logs/refs/heads/\n",
            "  inflating: /content/drive/MyDrive/DL_guided/Higgs Boson/Higgs Boson/.git/logs/refs/heads/main  \n",
            "   creating: /content/drive/MyDrive/DL_guided/Higgs Boson/Higgs Boson/.git/logs/refs/remotes/\n",
            "   creating: /content/drive/MyDrive/DL_guided/Higgs Boson/Higgs Boson/.git/logs/refs/remotes/origin/\n",
            "  inflating: /content/drive/MyDrive/DL_guided/Higgs Boson/Higgs Boson/.git/logs/refs/remotes/origin/main  \n",
            "   creating: /content/drive/MyDrive/DL_guided/Higgs Boson/Higgs Boson/.git/objects/\n",
            "   creating: /content/drive/MyDrive/DL_guided/Higgs Boson/Higgs Boson/.git/objects/0b/\n",
            "  inflating: /content/drive/MyDrive/DL_guided/Higgs Boson/Higgs Boson/.git/objects/0b/df2c05c1a82aab0c59428fcba4cebb43bae2a7  \n",
            "   creating: /content/drive/MyDrive/DL_guided/Higgs Boson/Higgs Boson/.git/objects/48/\n",
            "  inflating: /content/drive/MyDrive/DL_guided/Higgs Boson/Higgs Boson/.git/objects/48/6dba8b2a90bfaa7e4a217089af9f2437393bbd  \n",
            "   creating: /content/drive/MyDrive/DL_guided/Higgs Boson/Higgs Boson/.git/objects/61/\n",
            "  inflating: /content/drive/MyDrive/DL_guided/Higgs Boson/Higgs Boson/.git/objects/61/e03b67d3c568147d6b96014f66555c3d66dbb8  \n",
            "   creating: /content/drive/MyDrive/DL_guided/Higgs Boson/Higgs Boson/.git/objects/67/\n",
            "  inflating: /content/drive/MyDrive/DL_guided/Higgs Boson/Higgs Boson/.git/objects/67/068f10fe7833bde2d9a4b584e3cb59d1483995  \n",
            "   creating: /content/drive/MyDrive/DL_guided/Higgs Boson/Higgs Boson/.git/objects/75/\n",
            "  inflating: /content/drive/MyDrive/DL_guided/Higgs Boson/Higgs Boson/.git/objects/75/1f8461823fb04fd47253ada9fab0e47c7ce959  \n",
            "   creating: /content/drive/MyDrive/DL_guided/Higgs Boson/Higgs Boson/.git/objects/84/\n",
            "  inflating: /content/drive/MyDrive/DL_guided/Higgs Boson/Higgs Boson/.git/objects/84/bfde0421ab9e6578b7b55704546718ea4413e6  \n",
            "   creating: /content/drive/MyDrive/DL_guided/Higgs Boson/Higgs Boson/.git/objects/86/\n",
            "  inflating: /content/drive/MyDrive/DL_guided/Higgs Boson/Higgs Boson/.git/objects/86/514192be9d6821c94332614d7185f4c0ff489d  \n",
            "   creating: /content/drive/MyDrive/DL_guided/Higgs Boson/Higgs Boson/.git/objects/93/\n",
            "  inflating: /content/drive/MyDrive/DL_guided/Higgs Boson/Higgs Boson/.git/objects/93/fd2bfe0335eefe5f426410c3a7d99d813c7820  \n",
            "   creating: /content/drive/MyDrive/DL_guided/Higgs Boson/Higgs Boson/.git/objects/a5/\n",
            "  inflating: /content/drive/MyDrive/DL_guided/Higgs Boson/Higgs Boson/.git/objects/a5/90d25fbbf35c940316d06d7eab97a9e0dffe81  \n",
            "   creating: /content/drive/MyDrive/DL_guided/Higgs Boson/Higgs Boson/.git/objects/c2/\n",
            "  inflating: /content/drive/MyDrive/DL_guided/Higgs Boson/Higgs Boson/.git/objects/c2/3cec72652e9a13dcf3c02b78cfaaddeb4b6e83  \n",
            "   creating: /content/drive/MyDrive/DL_guided/Higgs Boson/Higgs Boson/.git/objects/c4/\n",
            "  inflating: /content/drive/MyDrive/DL_guided/Higgs Boson/Higgs Boson/.git/objects/c4/d5349fa34023475f92bbc07858cfa53c39962c  \n",
            "   creating: /content/drive/MyDrive/DL_guided/Higgs Boson/Higgs Boson/.git/objects/ca/\n",
            "  inflating: /content/drive/MyDrive/DL_guided/Higgs Boson/Higgs Boson/.git/objects/ca/6e941cbc79a8519bfef7475ea15c12cb0b5550  \n",
            "   creating: /content/drive/MyDrive/DL_guided/Higgs Boson/Higgs Boson/.git/objects/ea/\n",
            "  inflating: /content/drive/MyDrive/DL_guided/Higgs Boson/Higgs Boson/.git/objects/ea/e53f94a347ce2be9b124c1926be40d01d95c0c  \n",
            "   creating: /content/drive/MyDrive/DL_guided/Higgs Boson/Higgs Boson/.git/objects/info/\n",
            "   creating: /content/drive/MyDrive/DL_guided/Higgs Boson/Higgs Boson/.git/objects/pack/\n",
            "   creating: /content/drive/MyDrive/DL_guided/Higgs Boson/Higgs Boson/.git/refs/\n",
            "   creating: /content/drive/MyDrive/DL_guided/Higgs Boson/Higgs Boson/.git/refs/heads/\n",
            "  inflating: /content/drive/MyDrive/DL_guided/Higgs Boson/Higgs Boson/.git/refs/heads/main  \n",
            "   creating: /content/drive/MyDrive/DL_guided/Higgs Boson/Higgs Boson/.git/refs/remotes/\n",
            "   creating: /content/drive/MyDrive/DL_guided/Higgs Boson/Higgs Boson/.git/refs/remotes/origin/\n",
            "  inflating: /content/drive/MyDrive/DL_guided/Higgs Boson/Higgs Boson/.git/refs/remotes/origin/main  \n",
            "   creating: /content/drive/MyDrive/DL_guided/Higgs Boson/Higgs Boson/.git/refs/tags/\n",
            "  inflating: /content/drive/MyDrive/DL_guided/Higgs Boson/Higgs Boson/App.py  \n",
            "   creating: /content/drive/MyDrive/DL_guided/Higgs Boson/Higgs Boson/Dataset/\n",
            "  inflating: /content/drive/MyDrive/DL_guided/Higgs Boson/Higgs Boson/Higgs.h5  \n",
            "   creating: /content/drive/MyDrive/DL_guided/Higgs Boson/Higgs Boson/Notebooks/\n",
            "  inflating: /content/drive/MyDrive/DL_guided/Higgs Boson/Higgs Boson/Notebooks/Higgs.h5  \n",
            "  inflating: /content/drive/MyDrive/DL_guided/Higgs Boson/Higgs Boson/Notebooks/neural-network-on-higgs.ipynb  \n",
            "  inflating: /content/drive/MyDrive/DL_guided/Higgs Boson/Higgs Boson/prediction.py  \n",
            "  inflating: /content/drive/MyDrive/DL_guided/Higgs Boson/Higgs Boson/Procfile  \n",
            "  inflating: /content/drive/MyDrive/DL_guided/Higgs Boson/Higgs Boson/requirements.txt  \n",
            "  inflating: /content/drive/MyDrive/DL_guided/Higgs Boson/Higgs Boson/runtime.txt  \n",
            "  inflating: /content/drive/MyDrive/DL_guided/Higgs Boson/Higgs Boson/training.py  \n",
            "  inflating: /content/drive/MyDrive/DL_guided/Higgs Boson/In-depth details.pdf  \n",
            "  inflating: /content/drive/MyDrive/DL_guided/Higgs Boson/Searching for Higgs Boson Decay Modes with Deep Learning.pdf  \n",
            "  inflating: /content/drive/MyDrive/DL_guided/Higgs Boson/Higgs Boson/Dataset/training.csv  \n"
          ]
        }
      ]
    },
    {
      "cell_type": "code",
      "metadata": {
        "id": "aR6SmY8jagEM"
      },
      "source": [
        "import pandas as pd\n",
        "import numpy as np\n"
      ],
      "id": "aR6SmY8jagEM",
      "execution_count": 2,
      "outputs": []
    },
    {
      "cell_type": "code",
      "metadata": {
        "id": "8_oQgCl-agEQ"
      },
      "source": [
        "df = pd.read_csv('/content/drive/MyDrive/DL_guided/Higgs Boson/Higgs Boson/Dataset/training.csv')\n"
      ],
      "id": "8_oQgCl-agEQ",
      "execution_count": 8,
      "outputs": []
    },
    {
      "cell_type": "code",
      "metadata": {
        "id": "sdveMPIvagER",
        "colab": {
          "base_uri": "https://localhost:8080/",
          "height": 226
        },
        "outputId": "bd168708-6ddf-4f4d-874e-37414b1940d2"
      },
      "source": [
        "df.head()"
      ],
      "id": "sdveMPIvagER",
      "execution_count": 9,
      "outputs": [
        {
          "output_type": "execute_result",
          "data": {
            "text/html": [
              "<div>\n",
              "<style scoped>\n",
              "    .dataframe tbody tr th:only-of-type {\n",
              "        vertical-align: middle;\n",
              "    }\n",
              "\n",
              "    .dataframe tbody tr th {\n",
              "        vertical-align: top;\n",
              "    }\n",
              "\n",
              "    .dataframe thead th {\n",
              "        text-align: right;\n",
              "    }\n",
              "</style>\n",
              "<table border=\"1\" class=\"dataframe\">\n",
              "  <thead>\n",
              "    <tr style=\"text-align: right;\">\n",
              "      <th></th>\n",
              "      <th>EventId</th>\n",
              "      <th>DER_mass_MMC</th>\n",
              "      <th>DER_mass_transverse_met_lep</th>\n",
              "      <th>DER_mass_vis</th>\n",
              "      <th>DER_pt_h</th>\n",
              "      <th>DER_deltaeta_jet_jet</th>\n",
              "      <th>DER_mass_jet_jet</th>\n",
              "      <th>DER_prodeta_jet_jet</th>\n",
              "      <th>DER_deltar_tau_lep</th>\n",
              "      <th>DER_pt_tot</th>\n",
              "      <th>DER_sum_pt</th>\n",
              "      <th>DER_pt_ratio_lep_tau</th>\n",
              "      <th>DER_met_phi_centrality</th>\n",
              "      <th>DER_lep_eta_centrality</th>\n",
              "      <th>PRI_tau_pt</th>\n",
              "      <th>PRI_tau_eta</th>\n",
              "      <th>PRI_tau_phi</th>\n",
              "      <th>PRI_lep_pt</th>\n",
              "      <th>PRI_lep_eta</th>\n",
              "      <th>PRI_lep_phi</th>\n",
              "      <th>PRI_met</th>\n",
              "      <th>PRI_met_phi</th>\n",
              "      <th>PRI_met_sumet</th>\n",
              "      <th>PRI_jet_num</th>\n",
              "      <th>PRI_jet_leading_pt</th>\n",
              "      <th>PRI_jet_leading_eta</th>\n",
              "      <th>PRI_jet_leading_phi</th>\n",
              "      <th>PRI_jet_subleading_pt</th>\n",
              "      <th>PRI_jet_subleading_eta</th>\n",
              "      <th>PRI_jet_subleading_phi</th>\n",
              "      <th>PRI_jet_all_pt</th>\n",
              "      <th>Weight</th>\n",
              "      <th>Label</th>\n",
              "    </tr>\n",
              "  </thead>\n",
              "  <tbody>\n",
              "    <tr>\n",
              "      <th>0</th>\n",
              "      <td>100000</td>\n",
              "      <td>138.470</td>\n",
              "      <td>51.655</td>\n",
              "      <td>97.827</td>\n",
              "      <td>27.980</td>\n",
              "      <td>0.91</td>\n",
              "      <td>124.711</td>\n",
              "      <td>2.666</td>\n",
              "      <td>3.064</td>\n",
              "      <td>41.928</td>\n",
              "      <td>197.760</td>\n",
              "      <td>1.582</td>\n",
              "      <td>1.396</td>\n",
              "      <td>0.2</td>\n",
              "      <td>32.638</td>\n",
              "      <td>1.017</td>\n",
              "      <td>0.381</td>\n",
              "      <td>51.626</td>\n",
              "      <td>2.273</td>\n",
              "      <td>-2.414</td>\n",
              "      <td>16.824</td>\n",
              "      <td>-0.277</td>\n",
              "      <td>258.733</td>\n",
              "      <td>2</td>\n",
              "      <td>67.435</td>\n",
              "      <td>2.150</td>\n",
              "      <td>0.444</td>\n",
              "      <td>46.062</td>\n",
              "      <td>1.24</td>\n",
              "      <td>-2.475</td>\n",
              "      <td>113.497</td>\n",
              "      <td>0.002653</td>\n",
              "      <td>s</td>\n",
              "    </tr>\n",
              "    <tr>\n",
              "      <th>1</th>\n",
              "      <td>100001</td>\n",
              "      <td>160.937</td>\n",
              "      <td>68.768</td>\n",
              "      <td>103.235</td>\n",
              "      <td>48.146</td>\n",
              "      <td>-999.00</td>\n",
              "      <td>-999.000</td>\n",
              "      <td>-999.000</td>\n",
              "      <td>3.473</td>\n",
              "      <td>2.078</td>\n",
              "      <td>125.157</td>\n",
              "      <td>0.879</td>\n",
              "      <td>1.414</td>\n",
              "      <td>-999.0</td>\n",
              "      <td>42.014</td>\n",
              "      <td>2.039</td>\n",
              "      <td>-3.011</td>\n",
              "      <td>36.918</td>\n",
              "      <td>0.501</td>\n",
              "      <td>0.103</td>\n",
              "      <td>44.704</td>\n",
              "      <td>-1.916</td>\n",
              "      <td>164.546</td>\n",
              "      <td>1</td>\n",
              "      <td>46.226</td>\n",
              "      <td>0.725</td>\n",
              "      <td>1.158</td>\n",
              "      <td>-999.000</td>\n",
              "      <td>-999.00</td>\n",
              "      <td>-999.000</td>\n",
              "      <td>46.226</td>\n",
              "      <td>2.233584</td>\n",
              "      <td>b</td>\n",
              "    </tr>\n",
              "    <tr>\n",
              "      <th>2</th>\n",
              "      <td>100002</td>\n",
              "      <td>-999.000</td>\n",
              "      <td>162.172</td>\n",
              "      <td>125.953</td>\n",
              "      <td>35.635</td>\n",
              "      <td>-999.00</td>\n",
              "      <td>-999.000</td>\n",
              "      <td>-999.000</td>\n",
              "      <td>3.148</td>\n",
              "      <td>9.336</td>\n",
              "      <td>197.814</td>\n",
              "      <td>3.776</td>\n",
              "      <td>1.414</td>\n",
              "      <td>-999.0</td>\n",
              "      <td>32.154</td>\n",
              "      <td>-0.705</td>\n",
              "      <td>-2.093</td>\n",
              "      <td>121.409</td>\n",
              "      <td>-0.953</td>\n",
              "      <td>1.052</td>\n",
              "      <td>54.283</td>\n",
              "      <td>-2.186</td>\n",
              "      <td>260.414</td>\n",
              "      <td>1</td>\n",
              "      <td>44.251</td>\n",
              "      <td>2.053</td>\n",
              "      <td>-2.028</td>\n",
              "      <td>-999.000</td>\n",
              "      <td>-999.00</td>\n",
              "      <td>-999.000</td>\n",
              "      <td>44.251</td>\n",
              "      <td>2.347389</td>\n",
              "      <td>b</td>\n",
              "    </tr>\n",
              "    <tr>\n",
              "      <th>3</th>\n",
              "      <td>100003</td>\n",
              "      <td>143.905</td>\n",
              "      <td>81.417</td>\n",
              "      <td>80.943</td>\n",
              "      <td>0.414</td>\n",
              "      <td>-999.00</td>\n",
              "      <td>-999.000</td>\n",
              "      <td>-999.000</td>\n",
              "      <td>3.310</td>\n",
              "      <td>0.414</td>\n",
              "      <td>75.968</td>\n",
              "      <td>2.354</td>\n",
              "      <td>-1.285</td>\n",
              "      <td>-999.0</td>\n",
              "      <td>22.647</td>\n",
              "      <td>-1.655</td>\n",
              "      <td>0.010</td>\n",
              "      <td>53.321</td>\n",
              "      <td>-0.522</td>\n",
              "      <td>-3.100</td>\n",
              "      <td>31.082</td>\n",
              "      <td>0.060</td>\n",
              "      <td>86.062</td>\n",
              "      <td>0</td>\n",
              "      <td>-999.000</td>\n",
              "      <td>-999.000</td>\n",
              "      <td>-999.000</td>\n",
              "      <td>-999.000</td>\n",
              "      <td>-999.00</td>\n",
              "      <td>-999.000</td>\n",
              "      <td>-0.000</td>\n",
              "      <td>5.446378</td>\n",
              "      <td>b</td>\n",
              "    </tr>\n",
              "    <tr>\n",
              "      <th>4</th>\n",
              "      <td>100004</td>\n",
              "      <td>175.864</td>\n",
              "      <td>16.915</td>\n",
              "      <td>134.805</td>\n",
              "      <td>16.405</td>\n",
              "      <td>-999.00</td>\n",
              "      <td>-999.000</td>\n",
              "      <td>-999.000</td>\n",
              "      <td>3.891</td>\n",
              "      <td>16.405</td>\n",
              "      <td>57.983</td>\n",
              "      <td>1.056</td>\n",
              "      <td>-1.385</td>\n",
              "      <td>-999.0</td>\n",
              "      <td>28.209</td>\n",
              "      <td>-2.197</td>\n",
              "      <td>-2.231</td>\n",
              "      <td>29.774</td>\n",
              "      <td>0.798</td>\n",
              "      <td>1.569</td>\n",
              "      <td>2.723</td>\n",
              "      <td>-0.871</td>\n",
              "      <td>53.131</td>\n",
              "      <td>0</td>\n",
              "      <td>-999.000</td>\n",
              "      <td>-999.000</td>\n",
              "      <td>-999.000</td>\n",
              "      <td>-999.000</td>\n",
              "      <td>-999.00</td>\n",
              "      <td>-999.000</td>\n",
              "      <td>0.000</td>\n",
              "      <td>6.245333</td>\n",
              "      <td>b</td>\n",
              "    </tr>\n",
              "  </tbody>\n",
              "</table>\n",
              "</div>"
            ],
            "text/plain": [
              "   EventId  DER_mass_MMC  ...    Weight  Label\n",
              "0   100000       138.470  ...  0.002653      s\n",
              "1   100001       160.937  ...  2.233584      b\n",
              "2   100002      -999.000  ...  2.347389      b\n",
              "3   100003       143.905  ...  5.446378      b\n",
              "4   100004       175.864  ...  6.245333      b\n",
              "\n",
              "[5 rows x 33 columns]"
            ]
          },
          "metadata": {},
          "execution_count": 9
        }
      ]
    },
    {
      "cell_type": "code",
      "metadata": {
        "id": "-g-1QZtxagES"
      },
      "source": [
        "df = df[['DER_mass_MMC', 'DER_mass_transverse_met_lep', 'DER_mass_vis',\n",
        "       'DER_pt_h', 'DER_deltaeta_jet_jet', 'DER_mass_jet_jet',\n",
        "       'DER_prodeta_jet_jet','Label']]"
      ],
      "id": "-g-1QZtxagES",
      "execution_count": 10,
      "outputs": []
    },
    {
      "cell_type": "code",
      "metadata": {
        "id": "hS3XwqGjagES"
      },
      "source": [
        "X = df.drop(columns=['Label'])\n",
        "y = df['Label']\n",
        "\n",
        "y = y.replace('s',0)\n",
        "y = y.replace('b',1)\n",
        "X = X.values\n",
        "y = y.values"
      ],
      "id": "hS3XwqGjagES",
      "execution_count": 11,
      "outputs": []
    },
    {
      "cell_type": "code",
      "metadata": {
        "colab": {
          "base_uri": "https://localhost:8080/",
          "height": 296
        },
        "id": "YCvRzyjHvd2y",
        "outputId": "47188ac2-1188-4f8e-dd4f-958dc15b02bd"
      },
      "source": [
        "import seaborn as sns\n",
        "sns.countplot(x='Label',data=df)"
      ],
      "id": "YCvRzyjHvd2y",
      "execution_count": 17,
      "outputs": [
        {
          "output_type": "execute_result",
          "data": {
            "text/plain": [
              "<matplotlib.axes._subplots.AxesSubplot at 0x7f67a9078e10>"
            ]
          },
          "metadata": {},
          "execution_count": 17
        },
        {
          "output_type": "display_data",
          "data": {
            "image/png": "[encoded data removed]",
            "text/plain": [
              "<Figure size 432x288 with 1 Axes>"
            ]
          },
          "metadata": {
            "needs_background": "light"
          }
        }
      ]
    },
    {
      "cell_type": "code",
      "metadata": {
        "id": "-iAAF6MuagET"
      },
      "source": [
        "import sklearn"
      ],
      "id": "-iAAF6MuagET",
      "execution_count": 12,
      "outputs": []
    },
    {
      "cell_type": "code",
      "metadata": {
        "id": "D5Twzk9_agET"
      },
      "source": [
        "from sklearn.model_selection import train_test_split\n",
        "X_train,X_test,y_train,y_test = train_test_split(X,y,test_size=0.2)"
      ],
      "id": "D5Twzk9_agET",
      "execution_count": 13,
      "outputs": []
    },
    {
      "cell_type": "code",
      "metadata": {
        "id": "qbLmmBseagEU"
      },
      "source": [
        "import tensorflow as tf \n",
        "from tensorflow.keras.models import Sequential\n",
        "from tensorflow.keras.layers import Dense\n",
        "from tensorflow.keras.optimizers import Adam\n"
      ],
      "id": "qbLmmBseagEU",
      "execution_count": 14,
      "outputs": []
    },
    {
      "cell_type": "code",
      "metadata": {
        "id": "YIGP0B5VagEU"
      },
      "source": [
        "# baseline model\n",
        "def create_baseline():\n",
        "    # create model\n",
        "    model = Sequential()\n",
        "    model.add(Dense(30, input_dim=7, activation='relu'))\n",
        "    model.add(Dense(1, activation='sigmoid'))\n",
        "    # Compile model\n",
        "    opt = tf.keras.optimizers.Adam(learning_rate=0.01)\n",
        "    model.compile(loss='binary_crossentropy', optimizer=opt, metrics=['accuracy'])\n",
        "    return model"
      ],
      "id": "YIGP0B5VagEU",
      "execution_count": 15,
      "outputs": []
    },
    {
      "cell_type": "code",
      "metadata": {
        "id": "H6lSWOJWagEV"
      },
      "source": [
        "model = create_baseline()"
      ],
      "id": "H6lSWOJWagEV",
      "execution_count": 16,
      "outputs": []
    },
    {
      "cell_type": "code",
      "metadata": {
        "id": "ryu1si30agEW",
        "colab": {
          "base_uri": "https://localhost:8080/"
        },
        "outputId": "4e55498d-5267-453e-a341-c3a8958d1af5"
      },
      "source": [
        "history = model.fit(X_train,y_train,validation_data =(X_test,y_test), epochs=80)"
      ],
      "id": "ryu1si30agEW",
      "execution_count": 18,
      "outputs": [
        {
          "output_type": "stream",
          "name": "stdout",
          "text": [
            "Epoch 1/80\n",
            "6250/6250 [==============================] - 13s 2ms/step - loss: 0.8534 - accuracy: 0.7104 - val_loss: 0.5346 - val_accuracy: 0.7366\n",
            "Epoch 2/80\n",
            "6250/6250 [==============================] - 15s 2ms/step - loss: 0.6023 - accuracy: 0.6947 - val_loss: 0.6273 - val_accuracy: 0.6870\n",
            "Epoch 3/80\n",
            "6250/6250 [==============================] - 11s 2ms/step - loss: 0.6421 - accuracy: 0.6589 - val_loss: 0.6444 - val_accuracy: 0.6550\n",
            "Epoch 4/80\n",
            "6250/6250 [==============================] - 13s 2ms/step - loss: 0.6426 - accuracy: 0.6579 - val_loss: 0.6447 - val_accuracy: 0.6550\n",
            "Epoch 5/80\n",
            "6250/6250 [==============================] - 12s 2ms/step - loss: 0.6426 - accuracy: 0.6579 - val_loss: 0.6444 - val_accuracy: 0.6550\n",
            "Epoch 6/80\n",
            "6250/6250 [==============================] - 10s 2ms/step - loss: 0.6426 - accuracy: 0.6579 - val_loss: 0.6443 - val_accuracy: 0.6550\n",
            "Epoch 7/80\n",
            "6250/6250 [==============================] - 10s 2ms/step - loss: 0.6426 - accuracy: 0.6579 - val_loss: 0.6444 - val_accuracy: 0.6550\n",
            "Epoch 8/80\n",
            "6250/6250 [==============================] - 11s 2ms/step - loss: 0.6426 - accuracy: 0.6579 - val_loss: 0.6444 - val_accuracy: 0.6550\n",
            "Epoch 9/80\n",
            "6250/6250 [==============================] - 11s 2ms/step - loss: 0.6426 - accuracy: 0.6579 - val_loss: 0.6444 - val_accuracy: 0.6550\n",
            "Epoch 10/80\n",
            "6250/6250 [==============================] - 10s 2ms/step - loss: 0.6426 - accuracy: 0.6579 - val_loss: 0.6447 - val_accuracy: 0.6550\n",
            "Epoch 11/80\n",
            "6250/6250 [==============================] - 11s 2ms/step - loss: 0.6426 - accuracy: 0.6579 - val_loss: 0.6447 - val_accuracy: 0.6550\n",
            "Epoch 12/80\n",
            "6250/6250 [==============================] - 10s 2ms/step - loss: 0.6426 - accuracy: 0.6579 - val_loss: 0.6443 - val_accuracy: 0.6550\n",
            "Epoch 13/80\n",
            "6250/6250 [==============================] - 10s 2ms/step - loss: 0.6426 - accuracy: 0.6579 - val_loss: 0.6444 - val_accuracy: 0.6550\n",
            "Epoch 14/80\n",
            "6250/6250 [==============================] - 11s 2ms/step - loss: 0.6426 - accuracy: 0.6579 - val_loss: 0.6446 - val_accuracy: 0.6550\n",
            "Epoch 15/80\n",
            "6250/6250 [==============================] - 11s 2ms/step - loss: 0.6426 - accuracy: 0.6579 - val_loss: 0.6447 - val_accuracy: 0.6550\n",
            "Epoch 16/80\n",
            "6250/6250 [==============================] - 11s 2ms/step - loss: 0.6426 - accuracy: 0.6579 - val_loss: 0.6443 - val_accuracy: 0.6550\n",
            "Epoch 17/80\n",
            "6250/6250 [==============================] - 11s 2ms/step - loss: 0.6427 - accuracy: 0.6579 - val_loss: 0.6449 - val_accuracy: 0.6550\n",
            "Epoch 18/80\n",
            "6250/6250 [==============================] - 10s 2ms/step - loss: 0.6427 - accuracy: 0.6579 - val_loss: 0.6443 - val_accuracy: 0.6550\n",
            "Epoch 19/80\n",
            "6250/6250 [==============================] - 10s 2ms/step - loss: 0.6427 - accuracy: 0.6579 - val_loss: 0.6447 - val_accuracy: 0.6550\n",
            "Epoch 20/80\n",
            "6250/6250 [==============================] - 11s 2ms/step - loss: 0.6427 - accuracy: 0.6579 - val_loss: 0.6448 - val_accuracy: 0.6550\n",
            "Epoch 21/80\n",
            "6250/6250 [==============================] - 10s 2ms/step - loss: 0.6426 - accuracy: 0.6579 - val_loss: 0.6443 - val_accuracy: 0.6550\n",
            "Epoch 22/80\n",
            "6250/6250 [==============================] - 11s 2ms/step - loss: 0.6426 - accuracy: 0.6579 - val_loss: 0.6443 - val_accuracy: 0.6550\n",
            "Epoch 23/80\n",
            "6250/6250 [==============================] - 10s 2ms/step - loss: 0.6426 - accuracy: 0.6579 - val_loss: 0.6445 - val_accuracy: 0.6550\n",
            "Epoch 24/80\n",
            "6250/6250 [==============================] - 11s 2ms/step - loss: 0.6426 - accuracy: 0.6579 - val_loss: 0.6445 - val_accuracy: 0.6550\n",
            "Epoch 25/80\n",
            "6250/6250 [==============================] - 10s 2ms/step - loss: 0.6427 - accuracy: 0.6579 - val_loss: 0.6446 - val_accuracy: 0.6550\n",
            "Epoch 26/80\n",
            "6250/6250 [==============================] - 9s 2ms/step - loss: 0.6426 - accuracy: 0.6579 - val_loss: 0.6443 - val_accuracy: 0.6550\n",
            "Epoch 27/80\n",
            "6250/6250 [==============================] - 10s 2ms/step - loss: 0.6426 - accuracy: 0.6579 - val_loss: 0.6445 - val_accuracy: 0.6550\n",
            "Epoch 28/80\n",
            "6250/6250 [==============================] - 10s 2ms/step - loss: 0.6426 - accuracy: 0.6579 - val_loss: 0.6443 - val_accuracy: 0.6550\n",
            "Epoch 29/80\n",
            "6250/6250 [==============================] - 11s 2ms/step - loss: 0.6426 - accuracy: 0.6579 - val_loss: 0.6446 - val_accuracy: 0.6550\n",
            "Epoch 30/80\n",
            "6250/6250 [==============================] - 10s 2ms/step - loss: 0.6426 - accuracy: 0.6579 - val_loss: 0.6443 - val_accuracy: 0.6550\n",
            "Epoch 31/80\n",
            "6250/6250 [==============================] - 11s 2ms/step - loss: 0.6426 - accuracy: 0.6579 - val_loss: 0.6447 - val_accuracy: 0.6550\n",
            "Epoch 32/80\n",
            "6250/6250 [==============================] - 11s 2ms/step - loss: 0.6426 - accuracy: 0.6579 - val_loss: 0.6443 - val_accuracy: 0.6550\n",
            "Epoch 33/80\n",
            "6250/6250 [==============================] - 11s 2ms/step - loss: 0.6426 - accuracy: 0.6579 - val_loss: 0.6444 - val_accuracy: 0.6550\n",
            "Epoch 34/80\n",
            "6250/6250 [==============================] - 10s 2ms/step - loss: 0.6426 - accuracy: 0.6579 - val_loss: 0.6450 - val_accuracy: 0.6550\n",
            "Epoch 35/80\n",
            "6250/6250 [==============================] - 12s 2ms/step - loss: 0.6426 - accuracy: 0.6579 - val_loss: 0.6445 - val_accuracy: 0.6550\n",
            "Epoch 36/80\n",
            "6250/6250 [==============================] - 10s 2ms/step - loss: 0.6426 - accuracy: 0.6579 - val_loss: 0.6445 - val_accuracy: 0.6550\n",
            "Epoch 37/80\n",
            "6250/6250 [==============================] - 10s 2ms/step - loss: 0.6427 - accuracy: 0.6579 - val_loss: 0.6449 - val_accuracy: 0.6550\n",
            "Epoch 38/80\n",
            "6250/6250 [==============================] - 10s 2ms/step - loss: 0.6426 - accuracy: 0.6579 - val_loss: 0.6443 - val_accuracy: 0.6550\n",
            "Epoch 39/80\n",
            "6250/6250 [==============================] - 10s 2ms/step - loss: 0.6427 - accuracy: 0.6579 - val_loss: 0.6444 - val_accuracy: 0.6550\n",
            "Epoch 40/80\n",
            "6250/6250 [==============================] - 11s 2ms/step - loss: 0.6426 - accuracy: 0.6579 - val_loss: 0.6447 - val_accuracy: 0.6550\n",
            "Epoch 41/80\n",
            "6250/6250 [==============================] - 10s 2ms/step - loss: 0.6426 - accuracy: 0.6579 - val_loss: 0.6443 - val_accuracy: 0.6550\n",
            "Epoch 42/80\n",
            "6250/6250 [==============================] - 11s 2ms/step - loss: 0.6426 - accuracy: 0.6579 - val_loss: 0.6443 - val_accuracy: 0.6550\n",
            "Epoch 43/80\n",
            "6250/6250 [==============================] - 10s 2ms/step - loss: 0.6427 - accuracy: 0.6579 - val_loss: 0.6444 - val_accuracy: 0.6550\n",
            "Epoch 44/80\n",
            "6250/6250 [==============================] - 10s 2ms/step - loss: 0.6426 - accuracy: 0.6579 - val_loss: 0.6448 - val_accuracy: 0.6550\n",
            "Epoch 45/80\n",
            "6250/6250 [==============================] - 11s 2ms/step - loss: 0.6427 - accuracy: 0.6579 - val_loss: 0.6453 - val_accuracy: 0.6550\n",
            "Epoch 46/80\n",
            "6250/6250 [==============================] - 10s 2ms/step - loss: 0.6426 - accuracy: 0.6579 - val_loss: 0.6444 - val_accuracy: 0.6550\n",
            "Epoch 47/80\n",
            "6250/6250 [==============================] - 10s 2ms/step - loss: 0.6426 - accuracy: 0.6579 - val_loss: 0.6446 - val_accuracy: 0.6550\n",
            "Epoch 48/80\n",
            "6250/6250 [==============================] - 11s 2ms/step - loss: 0.6427 - accuracy: 0.6579 - val_loss: 0.6443 - val_accuracy: 0.6550\n",
            "Epoch 49/80\n",
            "6250/6250 [==============================] - 11s 2ms/step - loss: 0.6427 - accuracy: 0.6579 - val_loss: 0.6443 - val_accuracy: 0.6550\n",
            "Epoch 50/80\n",
            "6250/6250 [==============================] - 11s 2ms/step - loss: 0.6426 - accuracy: 0.6579 - val_loss: 0.6443 - val_accuracy: 0.6550\n",
            "Epoch 51/80\n",
            "6250/6250 [==============================] - 11s 2ms/step - loss: 0.6426 - accuracy: 0.6579 - val_loss: 0.6444 - val_accuracy: 0.6550\n",
            "Epoch 52/80\n",
            "6250/6250 [==============================] - 10s 2ms/step - loss: 0.6426 - accuracy: 0.6579 - val_loss: 0.6444 - val_accuracy: 0.6550\n",
            "Epoch 53/80\n",
            "6250/6250 [==============================] - 11s 2ms/step - loss: 0.6426 - accuracy: 0.6579 - val_loss: 0.6443 - val_accuracy: 0.6550\n",
            "Epoch 54/80\n",
            "6250/6250 [==============================] - 10s 2ms/step - loss: 0.6427 - accuracy: 0.6579 - val_loss: 0.6445 - val_accuracy: 0.6550\n",
            "Epoch 55/80\n",
            "6250/6250 [==============================] - 10s 2ms/step - loss: 0.6426 - accuracy: 0.6579 - val_loss: 0.6443 - val_accuracy: 0.6550\n",
            "Epoch 56/80\n",
            "6250/6250 [==============================] - 10s 2ms/step - loss: 0.6426 - accuracy: 0.6579 - val_loss: 0.6445 - val_accuracy: 0.6550\n",
            "Epoch 57/80\n",
            "6250/6250 [==============================] - 10s 2ms/step - loss: 0.6426 - accuracy: 0.6579 - val_loss: 0.6444 - val_accuracy: 0.6550\n",
            "Epoch 58/80\n",
            "6250/6250 [==============================] - 11s 2ms/step - loss: 0.6426 - accuracy: 0.6579 - val_loss: 0.6444 - val_accuracy: 0.6550\n",
            "Epoch 59/80\n",
            "6250/6250 [==============================] - 10s 2ms/step - loss: 0.6426 - accuracy: 0.6579 - val_loss: 0.6455 - val_accuracy: 0.6550\n",
            "Epoch 60/80\n",
            "6250/6250 [==============================] - 11s 2ms/step - loss: 0.6426 - accuracy: 0.6579 - val_loss: 0.6443 - val_accuracy: 0.6550\n",
            "Epoch 61/80\n",
            "6250/6250 [==============================] - 10s 2ms/step - loss: 0.6426 - accuracy: 0.6579 - val_loss: 0.6443 - val_accuracy: 0.6550\n",
            "Epoch 62/80\n",
            "6250/6250 [==============================] - 11s 2ms/step - loss: 0.6426 - accuracy: 0.6579 - val_loss: 0.6444 - val_accuracy: 0.6550\n",
            "Epoch 63/80\n",
            "6250/6250 [==============================] - 11s 2ms/step - loss: 0.6426 - accuracy: 0.6579 - val_loss: 0.6443 - val_accuracy: 0.6550\n",
            "Epoch 64/80\n",
            "6250/6250 [==============================] - 10s 2ms/step - loss: 0.6426 - accuracy: 0.6579 - val_loss: 0.6445 - val_accuracy: 0.6550\n",
            "Epoch 65/80\n",
            "6250/6250 [==============================] - 11s 2ms/step - loss: 0.6427 - accuracy: 0.6579 - val_loss: 0.6443 - val_accuracy: 0.6550\n",
            "Epoch 66/80\n",
            "6250/6250 [==============================] - 11s 2ms/step - loss: 0.6426 - accuracy: 0.6579 - val_loss: 0.6451 - val_accuracy: 0.6550\n",
            "Epoch 67/80\n",
            "6250/6250 [==============================] - 11s 2ms/step - loss: 0.6426 - accuracy: 0.6579 - val_loss: 0.6448 - val_accuracy: 0.6550\n",
            "Epoch 68/80\n",
            "6250/6250 [==============================] - 10s 2ms/step - loss: 0.6426 - accuracy: 0.6579 - val_loss: 0.6444 - val_accuracy: 0.6550\n",
            "Epoch 69/80\n",
            "6250/6250 [==============================] - 11s 2ms/step - loss: 0.6426 - accuracy: 0.6579 - val_loss: 0.6443 - val_accuracy: 0.6550\n",
            "Epoch 70/80\n",
            "6250/6250 [==============================] - 10s 2ms/step - loss: 0.6426 - accuracy: 0.6579 - val_loss: 0.6454 - val_accuracy: 0.6550\n",
            "Epoch 71/80\n",
            "6250/6250 [==============================] - 11s 2ms/step - loss: 0.6426 - accuracy: 0.6579 - val_loss: 0.6444 - val_accuracy: 0.6550\n",
            "Epoch 72/80\n",
            "6250/6250 [==============================] - 11s 2ms/step - loss: 0.6426 - accuracy: 0.6579 - val_loss: 0.6443 - val_accuracy: 0.6550\n",
            "Epoch 73/80\n",
            "6250/6250 [==============================] - 10s 2ms/step - loss: 0.6426 - accuracy: 0.6579 - val_loss: 0.6443 - val_accuracy: 0.6550\n",
            "Epoch 74/80\n",
            "6250/6250 [==============================] - 10s 2ms/step - loss: 0.6427 - accuracy: 0.6579 - val_loss: 0.6444 - val_accuracy: 0.6550\n",
            "Epoch 75/80\n",
            "6250/6250 [==============================] - 10s 2ms/step - loss: 0.6427 - accuracy: 0.6579 - val_loss: 0.6456 - val_accuracy: 0.6550\n",
            "Epoch 76/80\n",
            "6250/6250 [==============================] - 10s 2ms/step - loss: 0.6427 - accuracy: 0.6579 - val_loss: 0.6443 - val_accuracy: 0.6550\n",
            "Epoch 77/80\n",
            "6250/6250 [==============================] - 10s 2ms/step - loss: 0.6426 - accuracy: 0.6579 - val_loss: 0.6444 - val_accuracy: 0.6550\n",
            "Epoch 78/80\n",
            "6250/6250 [==============================] - 10s 2ms/step - loss: 0.6426 - accuracy: 0.6579 - val_loss: 0.6445 - val_accuracy: 0.6550\n",
            "Epoch 79/80\n",
            "6250/6250 [==============================] - 10s 2ms/step - loss: 0.6426 - accuracy: 0.6579 - val_loss: 0.6448 - val_accuracy: 0.6550\n",
            "Epoch 80/80\n",
            "6250/6250 [==============================] - 10s 2ms/step - loss: 0.6426 - accuracy: 0.6579 - val_loss: 0.6445 - val_accuracy: 0.6550\n"
          ]
        }
      ]
    },
    {
      "cell_type": "code",
      "metadata": {
        "id": "RyDeDQhdagEW"
      },
      "source": [
        "tf.keras.models.save_model(model,'/content/drive/MyDrive/DL_guided/Higgs Boson/Higgs Boson/Notebooks/Higgs_1.h5')"
      ],
      "id": "RyDeDQhdagEW",
      "execution_count": 22,
      "outputs": []
    },
    {
      "cell_type": "code",
      "metadata": {
        "id": "1TtquoQdagEW",
        "colab": {
          "base_uri": "https://localhost:8080/",
          "height": 573
        },
        "outputId": "f5c0873c-d1a7-4925-db9c-74b5d7450a43"
      },
      "source": [
        "import matplotlib.pyplot as plt\n",
        "plt.plot(history.history['accuracy'])\n",
        "plt.plot(history.history['val_accuracy'])\n",
        "plt.title('model accuracy')\n",
        "plt.ylabel('accuracy')\n",
        "plt.xlabel('epoch')\n",
        "plt.legend(['train', 'test'], loc='upper left')\n",
        "plt.show()\n",
        "# summarize history for loss\n",
        "plt.plot(history.history['loss'])\n",
        "plt.plot(history.history['val_loss'])\n",
        "plt.title('model loss')\n",
        "plt.ylabel('loss')\n",
        "plt.xlabel('epoch')\n",
        "plt.legend(['train', 'test'], loc='upper left')\n",
        "plt.show()"
      ],
      "id": "1TtquoQdagEW",
      "execution_count": 19,
      "outputs": [
        {
          "output_type": "display_data",
          "data": {
            "image/png": "[encoded data removed]",
            "text/plain": [
              "<Figure size 432x288 with 1 Axes>"
            ]
          },
          "metadata": {
            "needs_background": "light"
          }
        },
        {
          "output_type": "display_data",
          "data": {
            "image/png": "[encoded data removed]",
            "text/plain": [
              "<Figure size 432x288 with 1 Axes>"
            ]
          },
          "metadata": {
            "needs_background": "light"
          }
        }
      ]
    },
    {
      "cell_type": "code",
      "metadata": {
        "id": "pIlpkPQ0agEX",
        "colab": {
          "base_uri": "https://localhost:8080/"
        },
        "outputId": "950b4260-8fce-456d-c4c8-7fa540d1c934"
      },
      "source": [
        "model.predict(X_test)"
      ],
      "id": "pIlpkPQ0agEX",
      "execution_count": 21,
      "outputs": [
        {
          "output_type": "execute_result",
          "data": {
            "text/plain": [
              "array([[0.6656641],\n",
              "       [0.6656641],\n",
              "       [0.6656641],\n",
              "       ...,\n",
              "       [0.6656641],\n",
              "       [0.6656641],\n",
              "       [0.6656641]], dtype=float32)"
            ]
          },
          "metadata": {},
          "execution_count": 21
        }
      ]
    },
    {
      "cell_type": "markdown",
      "metadata": {
        "id": "QrJfBzQ70WsS"
      },
      "source": [
        "## Predict on unseen data"
      ],
      "id": "QrJfBzQ70WsS"
    },
    {
      "cell_type": "code",
      "metadata": {
        "id": "aQ-rX44EagEX",
        "colab": {
          "base_uri": "https://localhost:8080/",
          "height": 35
        },
        "outputId": "4ca80c4e-8468-4b88-ed83-a775d2335e4d"
      },
      "source": [
        "def prediction(model,input):\n",
        "    prediction = model.predict(input)\n",
        "    return 's' if prediction[0][0] >= 0.5 else 'b'\n",
        "\n",
        "prediction(model,np.array([[121.052,   0.185,  79.164, 152.136,   1.571, 125.702,  -0.348]]))\n"
      ],
      "id": "aQ-rX44EagEX",
      "execution_count": 23,
      "outputs": [
        {
          "output_type": "execute_result",
          "data": {
            "application/vnd.google.colaboratory.intrinsic+json": {
              "type": "string"
            },
            "text/plain": [
              "'s'"
            ]
          },
          "metadata": {},
          "execution_count": 23
        }
      ]
    },
    {
      "cell_type": "code",
      "metadata": {
        "id": "sAOp5XfVagEY"
      },
      "source": [
        "model = tf.keras.models.load_model('Higgs.h5')\n"
      ],
      "id": "sAOp5XfVagEY",
      "execution_count": null,
      "outputs": []
    }
  ]
}